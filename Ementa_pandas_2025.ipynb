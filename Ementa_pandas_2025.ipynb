{
  "nbformat": 4,
  "nbformat_minor": 0,
  "metadata": {
    "colab": {
      "provenance": [],
      "authorship_tag": "ABX9TyO6snj9p7zQTRNs26PjXk52",
      "include_colab_link": true
    },
    "kernelspec": {
      "name": "python3",
      "display_name": "Python 3"
    },
    "language_info": {
      "name": "python"
    }
  },
  "cells": [
    {
      "cell_type": "markdown",
      "metadata": {
        "id": "view-in-github",
        "colab_type": "text"
      },
      "source": [
        "<a href=\"https://colab.research.google.com/github/ThamaraCrispim/analise-de-dados-em-python/blob/main/Ementa_pandas_2025.ipynb\" target=\"_parent\"><img src=\"https://colab.research.google.com/assets/colab-badge.svg\" alt=\"Open In Colab\"/></a>"
      ]
    },
    {
      "cell_type": "markdown",
      "source": [
        "## **Ementa**\n",
        "\n",
        "1. Principais onjetos do pandas\n",
        " - Series\n",
        " - Dataframes\n",
        "2. Importando arquivos com pandas\n",
        " - cvs\n",
        " - xlsx\n",
        " - parquet\n",
        "3. Navegando pelos dados\n",
        " - informações básicas\n",
        " - tipo de colunas\n",
        " - nevegação em linha e colunas\n",
        " - renomeando colunas\n",
        "4. Fitrando dados\n",
        " - condições lógicas\n",
        "5. transformações e remoções\n",
        "- criação de novas colunas\n",
        "- Ordenação\n",
        "- conversão de tipos\n",
        "- aplicando funções em linha e colunas\n",
        "- Removendo  duplicadas\n",
        "- Trabalhando com Nas\n",
        "6. GroupNy\n",
        "- Agregando dados\n",
        "- O método agg\n",
        "- Agregando personalizadas\n",
        "7. cruzamento de dados\n",
        "- merge\n",
        "- concat\n",
        "8. Manipulaçôes adicionais\n",
        "- Steck\n",
        "- Unstack\n",
        "- Pivot table\n",
        "- explode\n",
        "9. conectando com bancos SQL\n",
        "- impotanto dados\n",
        "- executando Queries\n",
        "- escrevendo dados\n",
        "\n",
        "\n"
      ],
      "metadata": {
        "id": "XXsNnDtFUpPp"
      }
    }
  ]
}